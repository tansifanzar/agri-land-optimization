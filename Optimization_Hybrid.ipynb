{
 "cells": [
  {
   "cell_type": "markdown",
   "id": "blocked-right",
   "metadata": {},
   "source": [
    "## Reading the Dataset"
   ]
  },
  {
   "cell_type": "code",
   "execution_count": 17,
   "id": "compatible-silver",
   "metadata": {},
   "outputs": [
    {
     "name": "stdout",
     "output_type": "stream",
     "text": [
      "   S. No.       crop  Yield kg/Ha  Price in Rs./Quintal  CWR in mm3/m2  \\\n",
      "0       1      paddy         3658                 141.0     62500.0000   \n",
      "1       2     cholam          485                 157.0      7175.9333   \n",
      "2       3      maize         7264                 132.5      5381.9500   \n",
      "3       4  sugarcane       126360                  23.0       977.6800   \n",
      "4       5     cotton         1837                 380.0     12916.6888   \n",
      "\n",
      "   Productivity kg/m2  CS Rs/m2  CMF Rs/m2  CI Rs/m2  CHL Rs/m2  \n",
      "0              0.4985    0.5986     0.7934    0.0332     2.8420  \n",
      "1              0.0842    0.1716     0.2404    0.0000     1.0608  \n",
      "2              0.8593    0.4172     1.1032    0.0320     2.8920  \n",
      "3             13.0724    2.2602     1.2818    0.1620     9.5809  \n",
      "4              0.1699    0.3200     0.8692    0.0000     5.1138  \n"
     ]
    }
   ],
   "source": [
    "from pandas import read_excel\n",
    "import numpy as np\n",
    "import random\n",
    "\n",
    "my_sheet = 'Sheet1'\n",
    "file_name = 'peerj-07-7559-s003.xls'\n",
    "df = read_excel(file_name, sheet_name = my_sheet)\n",
    "print(df.head()) \n",
    "df1 = df\n",
    "\n",
    "df=df.drop(['crop'],axis=1)\n",
    "#df.columns=['crop','yield','price','CWR','CS','CMF','CI','CHL']\n",
    "df.columns=['S_No','yield','price','CWR','prod','CS','CMF','CI','CHL']"
   ]
  },
  {
   "cell_type": "markdown",
   "id": "continental-schedule",
   "metadata": {},
   "source": [
    "## Preprocessing the Data"
   ]
  },
  {
   "cell_type": "code",
   "execution_count": 18,
   "id": "excess-notebook",
   "metadata": {},
   "outputs": [],
   "source": [
    "df['Cost'] = df['CS'] + df['CMF'] + df['CI'] + df['CHL']\n",
    "df['Income1'] = df['price'] * df['prod'] \n",
    "df['Cost_Per'] = df['Cost'] / np.sum(df['Cost'])\n",
    "df['Income1_Per'] = df['Income1'] / np.sum(df['Income1'])\n",
    "df['Profit'] = df['Income1'] - df['Cost']\n",
    "df['Profit_Per'] = df['Profit'] / np.sum(df['Profit'])"
   ]
  },
  {
   "cell_type": "markdown",
   "id": "medical-playing",
   "metadata": {},
   "source": [
    "## Fitness Function"
   ]
  },
  {
   "cell_type": "code",
   "execution_count": 19,
   "id": "material-tension",
   "metadata": {},
   "outputs": [],
   "source": [
    "def fitness(sample_pop):\n",
    "    x = []\n",
    "    y = []\n",
    "    for k in range (len(sample_pop)):\n",
    "        f1 = []\n",
    "        f2 = []\n",
    "        for i in range (10):\n",
    "            #print(sample_pop[k][i],df['Profit'][i])\n",
    "            f1.append(sample_pop[k][i] * df['Profit'][i])\n",
    "            f2.append(sample_pop[k][i] * df['CWR'][i]*.001)\n",
    "\n",
    "        a = np.sum(f1)\n",
    "        b = np.sum(f2)\n",
    "        x.append(a)\n",
    "        y.append(b)\n",
    "    #print(\"x:\",x)\n",
    "        \n",
    "    return x,y"
   ]
  },
  {
   "cell_type": "markdown",
   "id": "hearing-queensland",
   "metadata": {},
   "source": [
    "## Pareto_Rank Function"
   ]
  },
  {
   "cell_type": "code",
   "execution_count": 20,
   "id": "photographic-attempt",
   "metadata": {},
   "outputs": [],
   "source": [
    "def pareto_rank(demo_pop):\n",
    "    mp = []\n",
    "    P_dash = demo_pop[:]\n",
    "    #Q_dash = P_dash[:]\n",
    "    ss_temp = ss[:]\n",
    "    tt_temp = tt[:]\n",
    "    R = []\n",
    "    p_fit = []\n",
    "    w_fit = []\n",
    "\n",
    "    while len(P_dash) > 0:\n",
    "        #print(\"I am new\")\n",
    "        F = []\n",
    "        ss_new = []\n",
    "        tt_new = []\n",
    "        #print(P_dash)\n",
    "        #print(i)\n",
    "        i = 0\n",
    "        while i < len(P_dash):\n",
    "            #print(\"i:\",i)\n",
    "            F.append(P_dash[i])\n",
    "            ss_new.append(ss_temp[i])\n",
    "            tt_new.append(tt_temp[i])\n",
    "            ind = F.index(P_dash[i])\n",
    "            j = 0\n",
    "            while j < len(F):\n",
    "                #print(\"j:\",j)\n",
    "                if j!=ind:\n",
    "                    #print('ss_new_j',ss_new[j])\n",
    "                    #print('ss_i',ss[i])\n",
    "                    #print('tt_new_j',tt_new[j])\n",
    "                    #print('tt_i',tt[i])\n",
    "                    if (ss_new[j]>ss_temp[i] and tt_new[j]<tt_temp[i]):\n",
    "                        F.remove(P_dash[i])\n",
    "                        #print(\"F1:\",len(F))\n",
    "                        #print('ss_sf1:',ss_new)\n",
    "                        #print('tt_tf1:',tt_new)\n",
    "                        ss_new.remove(ss_temp[i])\n",
    "                        tt_new.remove(tt_temp[i])\n",
    "                        #print('ss_s:',ss_new)\n",
    "                        #print('tt_t:',tt_new)\n",
    "                        break\n",
    "                    elif (ss_new[j]<ss_temp[i] and tt_new[j]>tt_temp[i]):\n",
    "                        F.remove(F[j])\n",
    "                        #print(\"F:\",len(F))\n",
    "                        #print('ss_sf:',ss_new)\n",
    "                        #print('tt_tf:',tt_new)\n",
    "                        ss_new.remove(ss_new[j])\n",
    "                        tt_new.remove(tt_new[j])\n",
    "                        #print('ss_s:',ss_new)\n",
    "                        #print('tt_t:',tt_new)\n",
    "                j = j + 1\n",
    "            i = i + 1\n",
    "        if len(F) == 0:\n",
    "            R.append(P_dash)\n",
    "            p_fit.append(ss_new)\n",
    "            w_fit.append(tt_new)\n",
    "            P_dash = []\n",
    "            ss_temp = []\n",
    "            tt_temp = []\n",
    "        else:\n",
    "            R.append(F)\n",
    "            for k in range (len(F)):\n",
    "                ind = P_dash.index(F[k])\n",
    "                P_dash.remove(F[k])\n",
    "                p_fit.append(ss_temp[ind])\n",
    "                w_fit.append(tt_temp[ind])\n",
    "                ss_temp.remove(ss_temp[ind])\n",
    "                tt_temp.remove(tt_temp[ind])\n",
    "    \n",
    "    #R_dash = []\n",
    "    #for ii in range (len(R)):\n",
    "        #for ll in range (len(R[ii])):\n",
    "            #if len(R_dash) !=6 :\n",
    "                #R_dash.append(R[ii][ll])\n",
    "            #else:\n",
    "                #break\n",
    "    return R\n"
   ]
  },
  {
   "cell_type": "markdown",
   "id": "activated-apparatus",
   "metadata": {},
   "source": [
    "## Rank_Compare Function"
   ]
  },
  {
   "cell_type": "code",
   "execution_count": 21,
   "id": "incorporated-swimming",
   "metadata": {},
   "outputs": [],
   "source": [
    "def rank_comp(p1,p2):\n",
    "    for i in range (len(par_rank)):\n",
    "        if p1 in par_rank[i]:\n",
    "            x = i\n",
    "    for j in range (len(par_rank)):\n",
    "        if p2 in par_rank[j]:\n",
    "            y = j\n",
    "    return x,y"
   ]
  },
  {
   "cell_type": "markdown",
   "id": "valued-imagination",
   "metadata": {},
   "source": [
    "## Mating_Pool Function"
   ]
  },
  {
   "cell_type": "code",
   "execution_count": 22,
   "id": "devoted-suggestion",
   "metadata": {},
   "outputs": [],
   "source": [
    "def mating_pool(sample_pop):\n",
    "\n",
    "    l = [0,1,2,3,4,5]\n",
    "    t =[]\n",
    "    ind = []\n",
    "    mp = []\n",
    "    for i in range (12):\n",
    "        res = random.choice([ele for ele in l if ele not in t])\n",
    "        t.append(res)\n",
    "        ind.append(res)\n",
    "        if i==5:\n",
    "            t = []\n",
    "\n",
    "    for i in range (0,12,2):\n",
    "        p1 = ind[i]\n",
    "        p2 = ind[i+1]\n",
    "        #print(p1,p2)\n",
    "        #if ss[p1%6]>ss[p2%6]:\n",
    "            #mp_pro.append(p1)\n",
    "        #else:\n",
    "            #mp_pro.append(p2)\n",
    "        #if tt[p1%6]>tt[p2%6]:\n",
    "            #mp_wa.append(p2)\n",
    "        #else:\n",
    "            #mp_wa.append(p1)\n",
    "        r1,r2 = rank_comp(sample_pop[p1%6],sample_pop[p2%6])\n",
    "        if (r1>r2):\n",
    "            mp.append(p1)\n",
    "        else:\n",
    "            mp.append(p2)\n",
    "    return mp\n",
    "\n"
   ]
  },
  {
   "cell_type": "markdown",
   "id": "offshore-giving",
   "metadata": {},
   "source": [
    "## Crossover Function"
   ]
  },
  {
   "cell_type": "code",
   "execution_count": 23,
   "id": "preliminary-allowance",
   "metadata": {},
   "outputs": [],
   "source": [
    "def crossover(sample_pop): \n",
    "    mop = []\n",
    "    moc = []\n",
    "    import math\n",
    "\n",
    "    l =[0,1,2,3,4,5]\n",
    "    rt = []\n",
    "    for i in range (6):\n",
    "        res = random.choice([ele for ele in l if ele not in rt])\n",
    "        rt.append(res)\n",
    "\n",
    "    ec = 20\n",
    "    pc = .8\n",
    "    off_sp = []\n",
    "\n",
    "    for j in range (0,6,2):\n",
    "        ran = random.random()\n",
    "        bita = []\n",
    "        ind1 = ma_pool_index[rt[j]]\n",
    "        ind2 = ma_pool_index[rt[j+1]]\n",
    "        if ran < pc:\n",
    "            res = [random.random() for i in range(10)]\n",
    "            for i in range (10):\n",
    "                if res[i] <= .5:\n",
    "                    bita.append(pow(2*res[i],(1/(ec+1))))\n",
    "                else:\n",
    "                    bita.append(pow((1/(2*(1-res[i]))),(1/(ec+1))))\n",
    "\n",
    "\n",
    "            j1 = [.5*((1+bita[i])*sample_pop[ind1][i]+(1-bita[i])*sample_pop[ind2][i]) for i in range (10)]\n",
    "            for v in range (len(j1)):\n",
    "                if (j1[v]<2000):\n",
    "                    j1[v] = 2000\n",
    "                    mop.append(v)\n",
    "            if sum(j1) > 40000:\n",
    "                pp = sum(j1) - 40000\n",
    "                pp = math.ceil(pp/7)\n",
    "                for v in range (len(j1)):\n",
    "                    if v not in mop:\n",
    "                        j1[v] = j1[v] - pp\n",
    "\n",
    "            j2 = [.5*((1-bita[i])*sample_pop[ind1][i]+(1+bita[i])*sample_pop[ind2][i]) for i in range (10)]\n",
    "            for v in range (len(j2)):\n",
    "                if (j2[v]<2000):\n",
    "                    j2[v] = 2000\n",
    "                    moc.append(v)\n",
    "            if sum(j2) > 40000:\n",
    "                pp = sum(j2) - 40000\n",
    "                pp = math.ceil(pp/7)\n",
    "                for v in range (len(j2)):\n",
    "                    if v not in moc:\n",
    "                        j2[v] = j2[v] - pp\n",
    "\n",
    "            off_sp.append(j1)\n",
    "            off_sp.append(j2)\n",
    "\n",
    "        else:\n",
    "            off_sp.append(sample_pop[ind1])\n",
    "            off_sp.append(sample_pop[ind2])\n",
    "    return off_sp"
   ]
  },
  {
   "cell_type": "markdown",
   "id": "varying-extent",
   "metadata": {},
   "source": [
    "## Mutation Function"
   ]
  },
  {
   "cell_type": "code",
   "execution_count": 24,
   "id": "senior-squad",
   "metadata": {},
   "outputs": [],
   "source": [
    "def mutation(sample_pop):\n",
    "    mop = []\n",
    "    import math\n",
    "    pm = .2\n",
    "    em = 20\n",
    "    off_sp_new = []\n",
    "    for j in range (6):\n",
    "        ran = random.random()\n",
    "        dell = []\n",
    "        if ran < pm:\n",
    "            res = [random.random() for i in range(10)]\n",
    "            for i in range (10):\n",
    "                if res[i] < .5:\n",
    "                    dell.append(pow(2*res[i],(1/(em+1)))-1)\n",
    "                else:\n",
    "                    dell.append(1-pow((2*(1-res[i])),(1/(em+1))))\n",
    "\n",
    "            jj = [sample_pop[j][p]+(22000-2000)*dell[p] for p in range (10)]        \n",
    "            for v in range (len(jj)):\n",
    "                if (jj[v]<2000):\n",
    "                    jj[v] = 2000\n",
    "                    mop.append(v)\n",
    "            if sum(jj) > 40000:\n",
    "                pp = sum(jj) - 40000\n",
    "                pp = math.ceil(pp/7)\n",
    "                #print(pp)\n",
    "                for v_p in range (len(jj)):\n",
    "                    if v_p not in mop:\n",
    "                        jj[v_p] = jj[v_p] - pp\n",
    "            off_sp_new.append(jj)\n",
    "\n",
    "        else:\n",
    "            off_sp_new.append(sample_pop[j])\n",
    "    return off_sp_new"
   ]
  },
  {
   "cell_type": "markdown",
   "id": "agricultural-corrections",
   "metadata": {},
   "source": [
    "## Run the cell to find out the Final Pareto Front"
   ]
  },
  {
   "cell_type": "code",
   "execution_count": 25,
   "id": "limiting-bhutan",
   "metadata": {},
   "outputs": [],
   "source": [
    "per_stat = [.1,.1,.2,.2,.3,.02,.02,.02,.02,.02]\n",
    "tt = []\n",
    "ss = []\n",
    "allocation = []\n",
    "\n",
    "for asd in range (100):\n",
    "    #print(asd)\n",
    "    if asd == 0:\n",
    "        #print(\"hu\")\n",
    "        for k in range (6):\n",
    "            allocation_temp = []\n",
    "            for i in range (10):\n",
    "                allocation_temp.append(2000)\n",
    "            pro = []\n",
    "            twr = []\n",
    "            random.shuffle(per_stat)\n",
    "            for bb in range (10):\n",
    "            #allocation[i] = allocation[i] + 20000* df['Profit_Per'][i]\n",
    "                allocation_temp[bb] = allocation_temp[bb] + 20000* per_stat[bb]\n",
    "                pro.append(allocation_temp[i] * df['Profit'][i])\n",
    "                twr.append(allocation_temp[i] * df['CWR'][i])\n",
    "            #allocation[i] = allocation[i] + 20000* a[0][i]\n",
    "        #print(\"Allocation: \",allocation[i])\n",
    "            #print(\"jj\")\n",
    "            if sum(allocation_temp) > 40000:\n",
    "                pp = sum(allocation_temp) - 40000\n",
    "                pp = math.ceil(pp/10)\n",
    "                for v in range (len(j2)):\n",
    "                    allocation_temp[v] = allocation_temp[v] - pp\n",
    "        \n",
    "            #print(\"pp\")\n",
    "            \n",
    "            allocation.append(allocation_temp)\n",
    "            t = np.sum(twr)\n",
    "            s = np.sum(pro)\n",
    "            tt.append(t)\n",
    "            ss.append(s)\n",
    "            #print(allocation)\n",
    "            #print(s)\n",
    "            #print(t)\n",
    "\n",
    "    if asd != 0:\n",
    "        pro,twr = fitness(allocation)       \n",
    "    #allocation.append(allocation_temp)\n",
    "        #t = np.sum(twr)\n",
    "        #s = np.sum(pro)\n",
    "        #ss.append(s)\n",
    "        #tt.append(t)\n",
    "        ss = pro[:]\n",
    "        tt = twr[:]\n",
    "    par_rank = pareto_rank(allocation)\n",
    "    ma_pool_index = mating_pool(allocation)\n",
    "    off_spring = crossover(allocation)\n",
    "    off_spring_new = mutation(off_spring)\n",
    "    allocation.extend(off_spring_new)"
   ]
  },
  {
   "cell_type": "markdown",
   "id": "human-lindsay",
   "metadata": {},
   "source": [
    "## Rank Processing"
   ]
  },
  {
   "cell_type": "code",
   "execution_count": 26,
   "id": "cross-princeton",
   "metadata": {},
   "outputs": [],
   "source": [
    "#profit_mat \n",
    "x = []\n",
    "y = []\n",
    "for k in range (len(par_rank[0])):\n",
    "    f1 = []\n",
    "    f2 = []\n",
    "    for i in range (10):\n",
    "            #print(sample_pop[k][i],df['Profit'][i])\n",
    "        f1.append(par_rank[0][k][i] * df['Profit'][i])\n",
    "        f2.append(-par_rank[0][k][i] * df['CWR'][i]*.001)\n",
    "\n",
    "    a = np.sum(f1)\n",
    "    b = np.sum(f2)\n",
    "    x.append(a)\n",
    "    y.append(b)\n",
    "    #print(\"x:\",x)"
   ]
  },
  {
   "cell_type": "markdown",
   "id": "demographic-ukraine",
   "metadata": {},
   "source": [
    "## Pareto Front Visualization "
   ]
  },
  {
   "cell_type": "code",
   "execution_count": 27,
   "id": "swedish-juice",
   "metadata": {},
   "outputs": [
    {
     "data": {
      "text/plain": [
       "<matplotlib.collections.PathCollection at 0x7fe37644dd30>"
      ]
     },
     "execution_count": 27,
     "metadata": {},
     "output_type": "execute_result"
    },
    {
     "data": {
      "image/png": "[encoded data removed]",
      "text/plain": [
       "<Figure size 432x288 with 1 Axes>"
      ]
     },
     "metadata": {
      "needs_background": "light"
     },
     "output_type": "display_data"
    }
   ],
   "source": [
    "import matplotlib.pyplot as plt\n",
    "plt.scatter(x,y)"
   ]
  },
  {
   "cell_type": "code",
   "execution_count": 28,
   "id": "contemporary-alert",
   "metadata": {},
   "outputs": [
    {
     "data": {
      "text/plain": [
       "[2400.0,\n",
       " 4000.0,\n",
       " 2400.0,\n",
       " 8000.0,\n",
       " 6000.0,\n",
       " 2400.0,\n",
       " 6000.0,\n",
       " 4000.0,\n",
       " 2400.0,\n",
       " 2400.0]"
      ]
     },
     "execution_count": 28,
     "metadata": {},
     "output_type": "execute_result"
    }
   ],
   "source": [
    "par_rank[0][0]"
   ]
  },
  {
   "cell_type": "code",
   "execution_count": null,
   "id": "powered-terrorist",
   "metadata": {},
   "outputs": [],
   "source": []
  }
 ],
 "metadata": {
  "kernelspec": {
   "display_name": "nlp",
   "language": "python",
   "name": "nlp"
  },
  "language_info": {
   "codemirror_mode": {
    "name": "ipython",
    "version": 3
   },
   "file_extension": ".py",
   "mimetype": "text/x-python",
   "name": "python",
   "nbconvert_exporter": "python",
   "pygments_lexer": "ipython3",
   "version": "3.8.5"
  }
 },
 "nbformat": 4,
 "nbformat_minor": 5
}
